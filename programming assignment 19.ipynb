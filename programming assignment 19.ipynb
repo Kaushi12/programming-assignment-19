{
 "cells": [
  {
   "cell_type": "code",
   "execution_count": 1,
   "id": "70152194",
   "metadata": {},
   "outputs": [],
   "source": [
    "#Ques1\n",
    "def double_char(s):\n",
    "    s1=''\n",
    "    for i in s:\n",
    "        s1=s1+i+i\n",
    "    return s1"
   ]
  },
  {
   "cell_type": "code",
   "execution_count": 2,
   "id": "d796c291",
   "metadata": {},
   "outputs": [
    {
     "data": {
      "text/plain": [
       "'SSttrriinngg'"
      ]
     },
     "execution_count": 2,
     "metadata": {},
     "output_type": "execute_result"
    }
   ],
   "source": [
    "double_char(\"String\")"
   ]
  },
  {
   "cell_type": "code",
   "execution_count": 9,
   "id": "686c7022",
   "metadata": {},
   "outputs": [],
   "source": [
    "#Ques2\n",
    "def reverse(boolean):\n",
    "    if type(boolean)==bool:\n",
    "        if boolean==True:\n",
    "            return False\n",
    "        elif boolean==False:\n",
    "            return True\n",
    "    else:\n",
    "        return \"boolean expected\""
   ]
  },
  {
   "cell_type": "code",
   "execution_count": 12,
   "id": "86937d60",
   "metadata": {},
   "outputs": [
    {
     "data": {
      "text/plain": [
       "'boolean expected'"
      ]
     },
     "execution_count": 12,
     "metadata": {},
     "output_type": "execute_result"
    }
   ],
   "source": [
    "reverse(1)"
   ]
  },
  {
   "cell_type": "code",
   "execution_count": 16,
   "id": "c9a1e5d5",
   "metadata": {},
   "outputs": [],
   "source": [
    "#Ques3\n",
    "def num_layers(n):\n",
    "    t=0.5\n",
    "    for i in range(1,n+1):\n",
    "        t=t*2\n",
    "    met=t/1000\n",
    "    meter=str(met)+\"m\"\n",
    "    return meter\n",
    "        "
   ]
  },
  {
   "cell_type": "code",
   "execution_count": 17,
   "id": "8e92a0b6",
   "metadata": {},
   "outputs": [
    {
     "data": {
      "text/plain": [
       "'1048.576m'"
      ]
     },
     "execution_count": 17,
     "metadata": {},
     "output_type": "execute_result"
    }
   ],
   "source": [
    "num_layers(21)"
   ]
  },
  {
   "cell_type": "code",
   "execution_count": 20,
   "id": "b40445e1",
   "metadata": {},
   "outputs": [],
   "source": [
    "#Ques4\n",
    "def index_of_caps(s1):\n",
    "    l=[]\n",
    "    for i in s1:\n",
    "        if i.isupper():\n",
    "            c=s1.index(i)\n",
    "            l.append(c)\n",
    "    return l\n",
    "            "
   ]
  },
  {
   "cell_type": "code",
   "execution_count": 21,
   "id": "4a41978d",
   "metadata": {},
   "outputs": [
    {
     "data": {
      "text/plain": [
       "[1, 3, 5]"
      ]
     },
     "execution_count": 21,
     "metadata": {},
     "output_type": "execute_result"
    }
   ],
   "source": [
    "index_of_caps(\"eDaBiT\")"
   ]
  },
  {
   "cell_type": "code",
   "execution_count": 22,
   "id": "8c693291",
   "metadata": {},
   "outputs": [],
   "source": [
    "#Ques5\n",
    "def find_even_nums(num):\n",
    "    newlist=[i for i in range (1,num+1) if i%2==0]\n",
    "    return newlist"
   ]
  },
  {
   "cell_type": "code",
   "execution_count": 23,
   "id": "404d0dc7",
   "metadata": {},
   "outputs": [
    {
     "data": {
      "text/plain": [
       "[2, 4, 6, 8]"
      ]
     },
     "execution_count": 23,
     "metadata": {},
     "output_type": "execute_result"
    }
   ],
   "source": [
    "find_even_nums(8)"
   ]
  },
  {
   "cell_type": "code",
   "execution_count": null,
   "id": "6daed8e3",
   "metadata": {},
   "outputs": [],
   "source": []
  }
 ],
 "metadata": {
  "kernelspec": {
   "display_name": "Python 3",
   "language": "python",
   "name": "python3"
  },
  "language_info": {
   "codemirror_mode": {
    "name": "ipython",
    "version": 3
   },
   "file_extension": ".py",
   "mimetype": "text/x-python",
   "name": "python",
   "nbconvert_exporter": "python",
   "pygments_lexer": "ipython3",
   "version": "3.8.8"
  }
 },
 "nbformat": 4,
 "nbformat_minor": 5
}
